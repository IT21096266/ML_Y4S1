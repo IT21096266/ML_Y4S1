{
 "cells": [
  {
   "cell_type": "code",
   "execution_count": null,
   "id": "82accce6-0ab5-4e58-a758-705ee3db2014",
   "metadata": {},
   "outputs": [],
   "source": [
    "# Import necessary libraries\n",
    "import pandas as pd\n",
    "import numpy as np\n",
    "import matplotlib.pyplot as plt\n",
    "import seaborn as sns\n",
    "from sklearn.cluster import AgglomerativeClustering\n",
    "from sklearn.preprocessing import StandardScaler\n",
    "from scipy.cluster.hierarchy import dendrogram, linkage"
   ]
  },
  {
   "cell_type": "code",
   "execution_count": null,
   "id": "e4651544-6b37-407c-a72c-56bc8018244b",
   "metadata": {},
   "outputs": [],
   "source": [
    "# Load the dataset for Comprehensive Relationship Analysis\n",
    "# Replace 'data.csv' with the actual filename or URL of your dataset\n",
    "data_comprehensive = pd.read_csv('BankChurners.csv')"
   ]
  },
  {
   "cell_type": "code",
   "execution_count": null,
   "id": "e137e522-96c1-4ceb-818f-1aaa1d9192c9",
   "metadata": {},
   "outputs": [],
   "source": [
    "# Preprocess the data (handle missing values, encode categorical variables, etc.)\n",
    "# Example:\n",
    "# data_comprehensive = preprocess_data(data_comprehensive)"
   ]
  },
  {
   "cell_type": "code",
   "execution_count": null,
   "id": "8e3282f4-1f14-4337-9ca4-4e704e689437",
   "metadata": {},
   "outputs": [],
   "source": [
    "# Select columns of interest\n",
    "columns_comprehensive = ['Total_Relationship_Count', 'Months_on_book', 'Total_Trans_Ct', 'Total_Amt_Chng_Q4_Q1']\n",
    "X_comprehensive = data_comprehensive[columns_comprehensive]"
   ]
  },
  {
   "cell_type": "code",
   "execution_count": null,
   "id": "579ace4f-9d7b-48fe-a67a-d718441e9fff",
   "metadata": {},
   "outputs": [],
   "source": [
    "# Standardize the features\n",
    "scaler = StandardScaler()\n",
    "X_comprehensive_scaled = scaler.fit_transform(X_comprehensive)"
   ]
  },
  {
   "cell_type": "code",
   "execution_count": null,
   "id": "e59d14b9-ba24-4020-9715-577d79126abe",
   "metadata": {},
   "outputs": [],
   "source": [
    "# Perform hierarchical clustering\n",
    "# Example parameters: linkage='ward', n_clusters=3 (adjust as needed)\n",
    "hc_comprehensive = AgglomerativeClustering(linkage='ward', n_clusters=3)\n",
    "hc_comprehensive.fit(X_comprehensive_scaled)\n",
    "data_comprehensive['Cluster'] = hc_comprehensive.labels_"
   ]
  },
  {
   "cell_type": "code",
   "execution_count": null,
   "id": "365d5294-b87b-4331-afaa-925962c6fbc7",
   "metadata": {},
   "outputs": [],
   "source": [
    "# Visualize dendrogram for Comprehensive Relationship Analysis\n",
    "plt.figure(figsize=(12, 6))\n",
    "dendrogram(linkage(X_comprehensive_scaled, method='ward'))\n",
    "plt.title('Dendrogram - Comprehensive Relationship Analysis')\n",
    "plt.xlabel('Customers')\n",
    "plt.ylabel('Euclidean Distance')\n",
    "plt.show()"
   ]
  },
  {
   "cell_type": "code",
   "execution_count": null,
   "id": "0bba89b6-10da-45dd-834b-d168c61c4b11",
   "metadata": {},
   "outputs": [],
   "source": [
    "# Load the dataset for Lifestyle-Based Customer Grouping\n",
    "data_lifestyle = pd.read_csv('data.csv')"
   ]
  },
  {
   "cell_type": "code",
   "execution_count": null,
   "id": "644879f3-fcfa-4d6f-ac48-16c14b006228",
   "metadata": {},
   "outputs": [],
   "source": [
    "# Preprocess the data for Lifestyle-Based Customer Grouping\n",
    "# Example:\n",
    "# data_lifestyle = preprocess_data(data_lifestyle)"
   ]
  },
  {
   "cell_type": "code",
   "execution_count": null,
   "id": "94fa35e3-fdc3-402c-9314-698581c0587c",
   "metadata": {},
   "outputs": [],
   "source": [
    "# Select columns of interest\n",
    "columns_lifestyle = ['Education_Level', 'Marital_Status', 'Income_Category', 'Dependent_count']\n",
    "X_lifestyle = data_lifestyle[columns_lifestyle]"
   ]
  },
  {
   "cell_type": "code",
   "execution_count": null,
   "id": "6c794756-a4a2-48b8-aa9f-9eadeadf77ab",
   "metadata": {},
   "outputs": [],
   "source": [
    "# Encode categorical variables if needed\n",
    "# Example:\n",
    "# X_lifestyle_encoded = encode_categorical(X_lifestyle)"
   ]
  },
  {
   "cell_type": "code",
   "execution_count": null,
   "id": "4c9cc6da-af4b-46ee-9c8c-a0d9ad418904",
   "metadata": {},
   "outputs": [],
   "source": [
    "# Standardize the features\n",
    "scaler = StandardScaler()\n",
    "X_lifestyle_scaled = scaler.fit_transform(X_lifestyle)"
   ]
  },
  {
   "cell_type": "code",
   "execution_count": null,
   "id": "fcea7c6e-5cd4-42e5-aeb1-43528061108d",
   "metadata": {},
   "outputs": [],
   "source": [
    "# Perform hierarchical clustering\n",
    "# Example parameters: linkage='ward', n_clusters=4 (adjust as needed)\n",
    "hc_lifestyle = AgglomerativeClustering(linkage='ward', n_clusters=4)\n",
    "hc_lifestyle.fit(X_lifestyle_scaled)\n",
    "data_lifestyle['Cluster'] = hc_lifestyle.labels_"
   ]
  },
  {
   "cell_type": "code",
   "execution_count": null,
   "id": "0aaf44d2-8b86-4763-ae11-58ee03b9b8b8",
   "metadata": {},
   "outputs": [],
   "source": [
    "# Load the dataset for Behavioral Change Detection Over Time\n",
    "data_behavioral = pd.read_csv('data.csv')"
   ]
  },
  {
   "cell_type": "code",
   "execution_count": null,
   "id": "d3edb344-bed6-4729-8b10-499dadf01298",
   "metadata": {},
   "outputs": [],
   "source": [
    "# Preprocess the data for Behavioral Change Detection Over Time\n",
    "# Example:\n",
    "# data_behavioral = preprocess_data(data_behavioral)"
   ]
  },
  {
   "cell_type": "code",
   "execution_count": null,
   "id": "dea57923-13d0-4410-832a-d2f8d7d419b4",
   "metadata": {},
   "outputs": [],
   "source": [
    "# Select columns of interest\n",
    "columns_behavioral = ['Total_Amt_Chng_Q4_Q1', 'Total_Ct_Chng_Q4_Q1', 'Avg_Utilization_Ratio', 'Months_Inactive_12_mon']\n",
    "X_behavioral = data_behavioral[columns_behavioral]"
   ]
  },
  {
   "cell_type": "code",
   "execution_count": null,
   "id": "4ce93391-05e7-4389-99ea-4bd94c16e90b",
   "metadata": {},
   "outputs": [],
   "source": [
    "# Standardize the features\n",
    "scaler = StandardScaler()\n",
    "X_behavioral_scaled = scaler.fit_transform(X_behavioral)"
   ]
  },
  {
   "cell_type": "code",
   "execution_count": null,
   "id": "3f297870-137f-4408-8f51-5dfc985ee4ee",
   "metadata": {},
   "outputs": [],
   "source": [
    "# Perform hierarchical clustering\n",
    "# Example parameters: linkage='ward', n_clusters=2 (adjust as needed)\n",
    "hc_behavioral = AgglomerativeClustering(linkage='ward', n_clusters=2)\n",
    "hc_behavioral.fit(X_behavioral_scaled)\n",
    "data_behavioral['Cluster'] = hc_behavioral.labels_"
   ]
  },
  {
   "cell_type": "code",
   "execution_count": null,
   "id": "9522b02d-ef0a-4e0e-b46b-1dd69af83da3",
   "metadata": {},
   "outputs": [],
   "source": [
    "# Print or visualize the results for all three scenarios\n",
    "# Example:\n",
    "# print(data_comprehensive.head())\n",
    "# print(data_lifestyle.head())\n",
    "# print(data_behavioral.head())"
   ]
  }
 ],
 "metadata": {
  "kernelspec": {
   "display_name": "Python 3 (ipykernel)",
   "language": "python",
   "name": "python3"
  },
  "language_info": {
   "codemirror_mode": {
    "name": "ipython",
    "version": 3
   },
   "file_extension": ".py",
   "mimetype": "text/x-python",
   "name": "python",
   "nbconvert_exporter": "python",
   "pygments_lexer": "ipython3",
   "version": "3.10.9"
  }
 },
 "nbformat": 4,
 "nbformat_minor": 5
}
